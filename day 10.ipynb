{
 "cells": [
  {
   "cell_type": "code",
   "execution_count": 1,
   "metadata": {},
   "outputs": [],
   "source": [
    "import math\n",
    "\n",
    "puzzle_input = [\".#..#\",\".....\",\"#####\",\"....#\",\"...##\"]\n",
    "asteroids = list()\n",
    "# for y, line in enumerate(puzzle_input): \n",
    "for y, line in enumerate(open('inputs/day10.txt')): \n",
    "    for x, point in enumerate(line):\n",
    "        if point == '#':\n",
    "            asteroids.append((x,y))\n",
    "            \n",
    "            "
   ]
  },
  {
   "cell_type": "code",
   "execution_count": 2,
   "metadata": {},
   "outputs": [],
   "source": [
    "def l1_distance(p1,p2):\n",
    "    return (p1[0]-p2[0])**2+(p1[1]-p2[1])**2\n",
    "\n",
    "def blocks(origin, asteroid1, asteroid2):\n",
    "    \"\"\" returns if asteroid 1 blocks asteroid 2 in direct line of sight seen from origin point. \n",
    "    e.g. blocks((0,0), (1,1), (2,2)) = True \"\"\"\n",
    "    angle1 = math.atan2(origin[0]-asteroid1[0], origin[1]-asteroid1[1])\n",
    "    angle2 = math.atan2(origin[0]-asteroid2[0], origin[1]-asteroid2[1])\n",
    "#     print(angle1, angle2)\n",
    "    if angle1 == angle2:\n",
    "#         print('same angle')\n",
    "        return l1_distance(origin, asteroid1) < l1_distance(origin, asteroid2)\n",
    "    return False\n",
    "assert blocks((0,0), (1,1),(2,2)) == True\n",
    "assert blocks((0,0), (1,1),(3,2)) == False\n",
    "assert blocks((0,0), (2,2),(8,8)) == True\n",
    "assert blocks((4,3), (4,4), (4,5)) == True"
   ]
  },
  {
   "cell_type": "code",
   "execution_count": 3,
   "metadata": {},
   "outputs": [
    {
     "name": "stdout",
     "output_type": "stream",
     "text": [
      "(263, (23, 29), [(1, 0), (4, 0), (7, 0), (8, 0), (10, 0), (14, 0), (15, 0), (16, 0), (18, 0), (31, 0), (5, 1), (17, 1), (20, 1), (24, 1), (26, 1), (29, 1), (32, 1), (0, 2), (9, 2), (12, 2), (20, 2), (32, 2), (1, 3), (6, 3), (16, 3), (18, 3), (22, 3), (24, 3), (26, 3), (28, 3), (2, 4), (5, 4), (11, 4), (19, 4), (20, 4), (21, 4), (25, 4), (27, 4), (28, 4), (3, 5), (6, 5), (9, 5), (10, 5), (13, 5), (18, 5), (27, 5), (30, 5), (32, 5), (2, 6), (4, 6), (5, 6), (8, 6), (10, 6), (12, 6), (16, 6), (17, 6), (28, 6), (32, 6), (2, 7), (29, 7), (32, 7), (3, 8), (6, 8), (8, 8), (12, 8), (13, 8), (15, 8), (19, 8), (21, 8), (24, 8), (6, 9), (1, 10), (2, 10), (3, 10), (6, 10), (8, 10), (11, 10), (15, 10), (18, 10), (20, 10), (28, 10), (29, 10), (32, 10), (1, 11), (24, 11), (25, 11), (0, 12), (2, 12), (10, 12), (13, 12), (14, 12), (15, 12), (16, 12), (18, 12), (21, 12), (22, 12), (24, 12), (25, 12), (26, 12), (32, 12), (1, 13), (6, 13), (8, 13), (12, 13), (13, 13), (17, 13), (20, 13), (24, 13), (26, 13), (28, 13), (30, 13), (0, 14), (1, 14), (5, 14), (10, 14), (19, 14), (20, 14), (25, 14), (27, 14), (32, 14), (6, 15), (18, 15), (24, 15), (25, 15), (28, 15), (30, 15), (0, 16), (1, 16), (3, 16), (4, 16), (5, 16), (11, 16), (13, 16), (15, 16), (16, 16), (17, 16), (19, 16), (22, 16), (25, 16), (28, 16), (29, 16), (30, 16), (0, 17), (12, 17), (14, 17), (17, 17), (20, 17), (28, 17), (10, 18), (14, 18), (17, 18), (19, 18), (20, 18), (21, 18), (25, 18), (31, 18), (6, 19), (7, 19), (16, 19), (17, 19), (20, 19), (24, 19), (1, 20), (2, 20), (3, 20), (9, 20), (11, 20), (13, 20), (15, 20), (19, 20), (20, 20), (30, 20), (0, 21), (2, 21), (6, 21), (7, 21), (25, 21), (28, 21), (30, 21), (32, 21), (3, 22), (6, 22), (7, 22), (16, 22), (25, 22), (32, 22), (2, 23), (3, 23), (4, 23), (12, 23), (16, 23), (6, 24), (7, 24), (11, 24), (12, 24), (14, 24), (27, 24), (30, 24), (31, 24), (1, 25), (4, 25), (5, 25), (6, 25), (10, 25), (18, 25), (32, 25), (3, 26), (4, 26), (11, 26), (15, 26), (18, 26), (21, 26), (23, 26), (25, 26), (4, 27), (11, 27), (13, 27), (26, 27), (27, 27), (0, 28), (7, 28), (8, 28), (9, 28), (10, 28), (14, 28), (20, 28), (24, 28), (31, 28), (20, 29), (25, 29), (1, 30), (5, 30), (10, 30), (11, 30), (12, 30), (14, 30), (15, 30), (16, 30), (17, 30), (22, 30), (24, 30), (0, 31), (2, 31), (6, 31), (13, 31), (14, 31), (18, 31), (23, 31), (28, 31), (29, 31), (31, 31), (1, 32), (6, 32), (9, 32), (10, 32), (13, 32), (16, 32), (17, 32), (19, 32), (21, 32), (22, 32), (28, 32), (31, 32)])\n"
     ]
    }
   ],
   "source": [
    "counts = list()\n",
    "\n",
    "for asteroid in asteroids: \n",
    "    visible = list()\n",
    "    total_visible = 0\n",
    "    for a2 in asteroids: \n",
    "        unblocked = True\n",
    "        if asteroid == a2: \n",
    "            # do not check whether you yourself block someone\n",
    "            continue\n",
    "\n",
    "        for a3 in asteroids: \n",
    "            if a3 == asteroid: \n",
    "                # You can not block yourself\n",
    "                continue\n",
    "            if blocks(asteroid, a3, a2):\n",
    "#                 print('a3 ', a3, 'blocks', a2)\n",
    "\n",
    "                unblocked = False\n",
    "                break\n",
    "        if unblocked:\n",
    "#             print(a2, 'is unblocked')\n",
    "            visible.append(a2)\n",
    "            total_visible += 1\n",
    "#     print(total_visible)\n",
    "    counts.append((total_visible, asteroid, visible))\n",
    "counts.sort()\n",
    "print(counts[-1])"
   ]
  },
  {
   "cell_type": "code",
   "execution_count": 4,
   "metadata": {},
   "outputs": [],
   "source": [
    "origin = counts[-1]"
   ]
  },
  {
   "cell_type": "code",
   "execution_count": 5,
   "metadata": {},
   "outputs": [],
   "source": [
    "counted, coordinate, evaporated = counts[-1]"
   ]
  },
  {
   "cell_type": "code",
   "execution_count": 6,
   "metadata": {},
   "outputs": [],
   "source": [
    "assert counted == len(evaporated)"
   ]
  },
  {
   "cell_type": "code",
   "execution_count": 7,
   "metadata": {},
   "outputs": [],
   "source": [
    "def angle(origin, asteroid1):\n",
    "    return math.atan2(origin[0]-asteroid1[0], origin[1]-asteroid1[1])"
   ]
  },
  {
   "cell_type": "code",
   "execution_count": 8,
   "metadata": {},
   "outputs": [],
   "source": [
    "angles = list()\n",
    "for a in evaporated:\n",
    "#     print(a, angle(coordinate, a))\n",
    "    angles.append((angle(coordinate, a), a))"
   ]
  },
  {
   "cell_type": "code",
   "execution_count": null,
   "metadata": {},
   "outputs": [],
   "source": []
  },
  {
   "cell_type": "code",
   "execution_count": 9,
   "metadata": {},
   "outputs": [],
   "source": [
    "negative = [(angle, position) for angle, position in angles if angle <= 0.0]\n",
    "negative.sort(reverse=True)\n",
    "positive = [(angle, position) for angle, position in angles if angle > 0.0]\n",
    "positive.sort(reverse=True)\n",
    "combined = negative + positive"
   ]
  },
  {
   "cell_type": "code",
   "execution_count": null,
   "metadata": {},
   "outputs": [],
   "source": []
  },
  {
   "cell_type": "code",
   "execution_count": null,
   "metadata": {},
   "outputs": [],
   "source": []
  },
  {
   "cell_type": "code",
   "execution_count": 11,
   "metadata": {},
   "outputs": [
    {
     "data": {
      "text/plain": [
       "(0.5633162614919681, (11, 10))"
      ]
     },
     "execution_count": 11,
     "metadata": {},
     "output_type": "execute_result"
    }
   ],
   "source": [
    "combined[199]"
   ]
  },
  {
   "cell_type": "code",
   "execution_count": 12,
   "metadata": {},
   "outputs": [
    {
     "data": {
      "text/plain": [
       "1110"
      ]
     },
     "execution_count": 12,
     "metadata": {},
     "output_type": "execute_result"
    }
   ],
   "source": [
    "11*100+10"
   ]
  },
  {
   "cell_type": "code",
   "execution_count": null,
   "metadata": {},
   "outputs": [],
   "source": []
  }
 ],
 "metadata": {
  "kernelspec": {
   "display_name": "Python 3",
   "language": "python",
   "name": "python3"
  },
  "language_info": {
   "codemirror_mode": {
    "name": "ipython",
    "version": 3
   },
   "file_extension": ".py",
   "mimetype": "text/x-python",
   "name": "python",
   "nbconvert_exporter": "python",
   "pygments_lexer": "ipython3",
   "version": "3.7.3"
  }
 },
 "nbformat": 4,
 "nbformat_minor": 2
}
