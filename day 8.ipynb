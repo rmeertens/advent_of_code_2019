{
 "cells": [
  {
   "cell_type": "code",
   "execution_count": 45,
   "metadata": {},
   "outputs": [
    {
     "name": "stdout",
     "output_type": "stream",
     "text": [
      "15000\n",
      "[(8, 2016), (10, 1536), (10, 2091), (10, 2091), (11, 2074), (11, 3024), (12, 1625), (12, 1845), (12, 1952), (13, 1152), (13, 1270), (13, 1270), (13, 1936), (13, 2142), (13, 2242), (13, 2242), (14, 1920), (14, 2688), (15, 1364), (15, 1476), (15, 1476), (16, 1989), (16, 2464), (17, 1666), (17, 2070), (17, 2352), (18, 875), (18, 2052), (19, 1210), (19, 1938), (19, 2484), (19, 3478), (20, 1624), (20, 1624), (20, 1921), (20, 2200), (20, 2781), (21, 2754), (21, 3348), (22, 1887), (22, 1980), (22, 2160), (22, 2332), (22, 2496), (22, 2652), (22, 2800), (23, 1680), (23, 2052), (23, 2140), (23, 2310), (23, 2976), (24, 1568), (24, 1944), (25, 1836), (25, 2100), (25, 3354), (26, 2163), (26, 2619), (27, 2142), (27, 2300), (27, 2450), (27, 2852), (27, 3276), (28, 2697), (28, 2821), (29, 2328), (29, 2400), (29, 2604), (29, 2790), (29, 3154), (30, 2759), (31, 1818), (31, 2208), (31, 2728), (32, 2581), (33, 3042), (33, 3080), (33, 3116), (33, 3240), (35, 2550), (35, 2754), (35, 3066), (37, 2850), (38, 2460), (39, 2700), (39, 2700), (39, 2738), (39, 2840), (41, 1978), (41, 2590), (41, 2788), (41, 2860), (42, 2516), (42, 2691), (43, 2482), (43, 2706), (46, 2655), (47, 2412), (49, 2244), (55, 2254)]\n"
     ]
    }
   ],
   "source": [
    "inputlines = [int(x) for x in open('inputs/day08.txt').readline().strip()]\n",
    "#print(inputlines)\n",
    "print(len(inputlines))\n",
    "im_length = 25*6\n",
    "counted = list()\n",
    "output = [-1 for i in range(im_length)]\n",
    "\n",
    "for i in range(0, len(inputlines)//im_length):\n",
    "    layer = inputlines[i*im_lenght:(i+1)*im_lenght]\n",
    "    counted.append((layer.count(0), layer.count(1)*layer.count(2)))\n",
    "    for j in range(im_length): \n",
    "        if output[j] in [-1, 2] and layer[j] in [0, 1]:\n",
    "            output[j] = layer[j]\n",
    "\n",
    "    \n",
    "counted.sort()\n",
    "print(counted)"
   ]
  },
  {
   "cell_type": "code",
   "execution_count": 46,
   "metadata": {},
   "outputs": [
    {
     "name": "stdout",
     "output_type": "stream",
     "text": [
      "1001011110011001111010010\n",
      "1001000010100100001010010\n",
      "1111000100100000010010010\n",
      "1001001000100000100010010\n",
      "1001010000100101000010010\n",
      "1001011110011001111001100\n"
     ]
    }
   ],
   "source": [
    "import numpy as np\n",
    "import matplotlib.pyplot as plt\n",
    "for i in range(6):\n",
    "    print(''.join([str(x) for x in output[i*25:(i+1)*25]]))"
   ]
  },
  {
   "cell_type": "code",
   "execution_count": 42,
   "metadata": {},
   "outputs": [],
   "source": [
    "outnp = np.array(output)"
   ]
  },
  {
   "cell_type": "code",
   "execution_count": 43,
   "metadata": {},
   "outputs": [
    {
     "data": {
      "text/plain": [
       "<matplotlib.image.AxesImage at 0x114813898>"
      ]
     },
     "execution_count": 43,
     "metadata": {},
     "output_type": "execute_result"
    },
    {
     "data": {
      "image/png": "[encoded data removed]",
      "text/plain": [
       "<Figure size 432x288 with 1 Axes>"
      ]
     },
     "metadata": {
      "needs_background": "light"
     },
     "output_type": "display_data"
    }
   ],
   "source": [
    "plt.imshow(outnp.reshape((6, -1)))"
   ]
  },
  {
   "cell_type": "code",
   "execution_count": null,
   "metadata": {},
   "outputs": [],
   "source": []
  },
  {
   "cell_type": "code",
   "execution_count": null,
   "metadata": {},
   "outputs": [],
   "source": []
  }
 ],
 "metadata": {
  "kernelspec": {
   "display_name": "Python 3",
   "language": "python",
   "name": "python3"
  },
  "language_info": {
   "codemirror_mode": {
    "name": "ipython",
    "version": 3
   },
   "file_extension": ".py",
   "mimetype": "text/x-python",
   "name": "python",
   "nbconvert_exporter": "python",
   "pygments_lexer": "ipython3",
   "version": "3.7.3"
  }
 },
 "nbformat": 4,
 "nbformat_minor": 2
}
