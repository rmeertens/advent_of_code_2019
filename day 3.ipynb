{
 "cells": [
  {
   "cell_type": "code",
   "execution_count": 56,
   "metadata": {},
   "outputs": [
    {
     "name": "stdout",
     "output_type": "stream",
     "text": [
      "answer puzzle one:  221\n",
      "answer puzzle two:  18542\n"
     ]
    }
   ],
   "source": [
    "paths = [line for line in open('inputs/day3.txt')]\n",
    "\n",
    "# assuming x -> y| plane... and x, y indices\n",
    "deltas = {'R': (1, 0), 'L': (-1, 0), 'U': (0, 1), 'D': (0, -1)}\n",
    "\n",
    "passed_list = list()\n",
    "distance_list = list()\n",
    "for line in paths:\n",
    "    passed = list()\n",
    "    pos = (0,0)\n",
    "    distance_to = {pos: 0}\n",
    "    distance_traveled_so_far = 0\n",
    "    for instruction in line.split(','):\n",
    "        direction, distance = instruction[0], int(instruction[1:])\n",
    "        for d in range(distance):\n",
    "            pos = (pos[0] + deltas[direction][0], pos[1] + deltas[direction][1])\n",
    "            passed.append(pos)\n",
    "            \n",
    "            distance_traveled_so_far += 1\n",
    "            distance_to[pos] = distance_traveled_so_far\n",
    "\n",
    "    passed_list.append(passed)\n",
    "    distance_list.append(distance_to)\n",
    "    \n",
    "double_positions = list()\n",
    "a1 = set(passed_list[0])\n",
    "a2 = set(passed_list[1])\n",
    "combined_distances = list()\n",
    "for i, pos in enumerate(a1):\n",
    "    if pos in a2: \n",
    "        double_positions.append(pos)\n",
    "        combined_distances.append(distance_list[0][pos] + distance_list[1][pos])\n",
    "distances = [abs(x)+abs(y) for x,y in double_positions]\n",
    "distances.sort()\n",
    "print('answer puzzle one: ', distances[0])\n",
    "combined_distances.sort()\n",
    "print('answer puzzle two: ', combined_distances[0])\n",
    "\n",
    "\n"
   ]
  },
  {
   "cell_type": "code",
   "execution_count": 54,
   "metadata": {},
   "outputs": [
    {
     "name": "stdout",
     "output_type": "stream",
     "text": [
      "answer puzzle one:  221\n",
      "answer puzzle two:  18542\n"
     ]
    }
   ],
   "source": [
    "\n",
    "# 751 too low"
   ]
  },
  {
   "cell_type": "code",
   "execution_count": 45,
   "metadata": {},
   "outputs": [
    {
     "name": "stdout",
     "output_type": "stream",
     "text": [
      "[(3, 3), (6, 5)]\n",
      "20\n"
     ]
    }
   ],
   "source": [
    "print(double_positions)\n",
    "print(distance_list[0][double_positions[0]])\n"
   ]
  },
  {
   "cell_type": "code",
   "execution_count": 38,
   "metadata": {},
   "outputs": [
    {
     "data": {
      "text/plain": [
       "[12, 13]"
      ]
     },
     "execution_count": 38,
     "metadata": {},
     "output_type": "execute_result"
    }
   ],
   "source": [
    "combined_distances"
   ]
  },
  {
   "cell_type": "code",
   "execution_count": 41,
   "metadata": {},
   "outputs": [
    {
     "data": {
      "text/plain": [
       "{(0, 0): 0,\n",
       " (1, 0): 9,\n",
       " (2, 0): 10,\n",
       " (3, 0): 11,\n",
       " (4, 0): 12,\n",
       " (5, 0): 13,\n",
       " (6, 0): 14,\n",
       " (7, 0): 15,\n",
       " (8, 0): 16,\n",
       " (8, 1): 6,\n",
       " (8, 2): 7,\n",
       " (8, 3): 8,\n",
       " (8, 4): 9,\n",
       " (8, 5): 10,\n",
       " (7, 5): 6,\n",
       " (6, 5): 7,\n",
       " (5, 5): 8,\n",
       " (4, 5): 9,\n",
       " (3, 5): 10,\n",
       " (3, 4): 4,\n",
       " (3, 3): 5,\n",
       " (3, 2): 6}"
      ]
     },
     "execution_count": 41,
     "metadata": {},
     "output_type": "execute_result"
    }
   ],
   "source": [
    "distance_list[0]"
   ]
  },
  {
   "cell_type": "code",
   "execution_count": null,
   "metadata": {},
   "outputs": [],
   "source": []
  }
 ],
 "metadata": {
  "kernelspec": {
   "display_name": "Python 3",
   "language": "python",
   "name": "python3"
  },
  "language_info": {
   "codemirror_mode": {
    "name": "ipython",
    "version": 3
   },
   "file_extension": ".py",
   "mimetype": "text/x-python",
   "name": "python",
   "nbconvert_exporter": "python",
   "pygments_lexer": "ipython3",
   "version": "3.7.3"
  }
 },
 "nbformat": 4,
 "nbformat_minor": 2
}
