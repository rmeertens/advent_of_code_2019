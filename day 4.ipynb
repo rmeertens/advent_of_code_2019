{
 "cells": [
  {
   "cell_type": "code",
   "execution_count": 23,
   "metadata": {},
   "outputs": [
    {
     "name": "stdout",
     "output_type": "stream",
     "text": [
      "1890\n",
      "1277\n"
     ]
    }
   ],
   "source": [
    "passwords = list()\n",
    "for i in range(1, 7):\n",
    "    for j in range(i, 10):\n",
    "        for k in range(j, 10):\n",
    "            for l in range(k, 10):\n",
    "                for m in range(l, 10):\n",
    "                    for n in range(m, 10):\n",
    "                        number = int(''.join([str(i),str(j),str(k),str(l),str(m),str(n)]))\n",
    "                        if number >= 138241 and number <= 674034 and (i==j or j==k or k==l or l==m or m==n):\n",
    "                            passwords.append(number)\n",
    "print(len(passwords))\n",
    "\n",
    "from collections import Counter\n",
    "accepted = list()\n",
    "for p in passwords:\n",
    "    counterchars = Counter(str(p))\n",
    "    for key in counterchars: \n",
    "        if counterchars[key] == 2:\n",
    "            accepted.append(p)\n",
    "            break\n",
    "print(len(accepted))"
   ]
  }
 ],
 "metadata": {
  "kernelspec": {
   "display_name": "Python 3",
   "language": "python",
   "name": "python3"
  },
  "language_info": {
   "codemirror_mode": {
    "name": "ipython",
    "version": 3
   },
   "file_extension": ".py",
   "mimetype": "text/x-python",
   "name": "python",
   "nbconvert_exporter": "python",
   "pygments_lexer": "ipython3",
   "version": "3.7.3"
  }
 },
 "nbformat": 4,
 "nbformat_minor": 2
}
