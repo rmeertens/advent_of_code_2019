{
 "cells": [
  {
   "cell_type": "code",
   "execution_count": 26,
   "metadata": {
    "scrolled": false
   },
   "outputs": [
    {
     "name": "stdout",
     "output_type": "stream",
     "text": [
      "0\n",
      "Enter a number5\n",
      "Outputting:  15586959\n"
     ]
    },
    {
     "data": {
      "text/plain": [
       "314"
      ]
     },
     "execution_count": 26,
     "metadata": {},
     "output_type": "execute_result"
    }
   ],
   "source": [
    "def get_initial(noun, verb):\n",
    "    instructions = [int(x) for x in open('inputs/day5.txt').readline().split(',')]\n",
    "    instructions[1] = noun\n",
    "    instructions[2] = verb\n",
    "    return instructions\n",
    "\n",
    "def parse_opcode(opcode):\n",
    "    \"\"\"\n",
    "    ABCDE\n",
    "     1002\n",
    "\n",
    "    DE - two-digit opcode,      02 == opcode 2\n",
    "     C - mode of 1st parameter,  0 == position mode\n",
    "     B - mode of 2nd parameter,  1 == immediate mode\n",
    "     A - mode of 3rd parameter,  0 == position mode,\n",
    "                                      omitted due to being a leading zero\n",
    "    \"\"\"\n",
    "    opcode = str(opcode)\n",
    "    opcode = '0'*(5-len(opcode)) + opcode\n",
    "    A = int(opcode[0])\n",
    "    B = int(opcode[1])\n",
    "    C = int(opcode[2])\n",
    "    DE = int(opcode[3:5])\n",
    "    return DE, C, B, A\n",
    "\n",
    "def get_final_state(instructions):\n",
    "    \n",
    "    position = 0\n",
    "    while True:\n",
    "        opcode = instructions[position]\n",
    "        #print('opcode is: ', opcode, 'at position ', position)\n",
    "        opcode, mode1, mode2, mode3 = parse_opcode(opcode)\n",
    "        \n",
    "        if opcode in [1,2,5,6,7,8]:\n",
    "            if mode1 == 0: # position mode\n",
    "         #       print('arg is in position mode', instructions[position+1], instructions[instructions[position+1]])\n",
    "                arg1 = instructions[instructions[position+1]]\n",
    "            else: # direct mode\n",
    "                arg1 = instructions[position+1]\n",
    "\n",
    "            if mode2 == 0: # position mode\n",
    "                arg2 = instructions[instructions[position+2]]\n",
    "            else: # direct mode\n",
    "                arg2 = instructions[position+2]\n",
    "            \n",
    "            \n",
    "        \n",
    "        if opcode == 1: \n",
    "            assert mode3 == 0\n",
    "            instructions[instructions[position+3]] = arg1 + arg2\n",
    "           # print('after addition, ', arg1,arg2)\n",
    "            position += 4\n",
    "        elif opcode == 2: \n",
    "            assert mode3 == 0\n",
    "            instructions[instructions[position+3]] = arg1 * arg2\n",
    "            position += 4\n",
    "        elif opcode == 3:\n",
    "#            assert arg1 == 0\n",
    "            inputted = int(input(\"Enter a number\"))\n",
    "            instructions[instructions[position+1]] = inputted\n",
    "            position += 2\n",
    "        elif opcode == 4:\n",
    " #           assert arg1 == 0\n",
    "            print(\"Outputting: \", instructions[instructions[position+1]])\n",
    "            position += 2\n",
    "        elif opcode == 5: \n",
    "            \"Opcode 5 is jump-if-true: if the first parameter is non-zero, it sets the instruction pointer to the value from the second parameter. Otherwise, it does nothing.\"\n",
    "            if arg1: \n",
    "                position = arg2\n",
    "            else:\n",
    "                position += 3\n",
    "        elif opcode == 6: \n",
    "            \"Opcode 6 is jump-if-false: if the first parameter is zero, it sets the instruction pointer to the value from the second parameter. Otherwise, it does nothing.\"\n",
    "            if not arg1: \n",
    "                position = arg2\n",
    "            else:\n",
    "                position += 3\n",
    "        elif opcode == 7: \n",
    "            \"Opcode 7 is less than: if the first parameter is less than the second parameter, it stores 1 in the position given by the third parameter. Otherwise, it stores 0.\"\n",
    "            if arg1 < arg2:\n",
    "                instructions[instructions[position+3]] = 1\n",
    "            else:\n",
    "                instructions[instructions[position+3]] = 0\n",
    "            position += 4  \n",
    "        elif opcode == 8: \n",
    "            \"Opcode 8 is equals: if the first parameter is equal to the second parameter, it stores 1 in the position given by the third parameter. Otherwise, it stores 0.\"\n",
    "            if arg1 == arg2: \n",
    "                instructions[instructions[position+3]] = 1\n",
    "            else:\n",
    "                instructions[instructions[position+3]] = 0\n",
    "            position += 4\n",
    "        elif opcode == 99:\n",
    "            break\n",
    "    return instructions[0]\n",
    "\n",
    "instructions = [int(x) for x in open('inputs/day5.txt').readline().split(',')]\n",
    "print(instructions[225])\n",
    "get_final_state(instructions)"
   ]
  },
  {
   "cell_type": "code",
   "execution_count": null,
   "metadata": {},
   "outputs": [],
   "source": []
  }
 ],
 "metadata": {
  "kernelspec": {
   "display_name": "Python 3",
   "language": "python",
   "name": "python3"
  },
  "language_info": {
   "codemirror_mode": {
    "name": "ipython",
    "version": 3
   },
   "file_extension": ".py",
   "mimetype": "text/x-python",
   "name": "python",
   "nbconvert_exporter": "python",
   "pygments_lexer": "ipython3",
   "version": "3.7.3"
  }
 },
 "nbformat": 4,
 "nbformat_minor": 2
}
