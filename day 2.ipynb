{
 "cells": [
  {
   "cell_type": "code",
   "execution_count": 25,
   "metadata": {},
   "outputs": [],
   "source": []
  },
  {
   "cell_type": "code",
   "execution_count": 35,
   "metadata": {},
   "outputs": [
    {
     "name": "stdout",
     "output_type": "stream",
     "text": [
      "part 1:  3765464\n",
      "answer 2:  7610\n",
      "done\n"
     ]
    }
   ],
   "source": [
    "def get_initial(noun, verb):\n",
    "    instructions = [int(x) for x in open('inputs/day2.txt').readline().split(',')]\n",
    "    instructions[1] = noun\n",
    "    instructions[2] = verb\n",
    "    return instructions\n",
    "\n",
    "def get_final_state(instructions):\n",
    "    position = 0\n",
    "    while True:\n",
    "        opcode = instructions[position]\n",
    "        if opcode == 1: \n",
    "            instructions[instructions[position+3]] = instructions[instructions[position+1]] + instructions[instructions[position+2]]\n",
    "            position += 4\n",
    "        elif opcode == 2: \n",
    "            instructions[instructions[position+3]] = instructions[instructions[position+1]] * instructions[instructions[position+2]]\n",
    "            position += 4\n",
    "        elif opcode == 99:\n",
    "            break\n",
    "    return instructions[0]\n",
    "\n",
    "assert get_final_state([1,0,0,0,99]) == 2\n",
    "assert get_final_state([1,1,1,4,99,5,6,0,99]) == 30\n",
    "instructions = get_initial(12, 2)\n",
    "answer1 = get_final_state(instructions)\n",
    "print('part 1: ', answer1)\n",
    "\n",
    "for i in range(100): \n",
    "    for j in range(100): \n",
    "        instructions = get_initial(i, j)\n",
    "        final = get_final_state(instructions)\n",
    "        if final == 19690720:\n",
    "            print('answer 2: ', 100*i + j)\n"
   ]
  },
  {
   "cell_type": "code",
   "execution_count": 33,
   "metadata": {},
   "outputs": [
    {
     "data": {
      "text/plain": [
       "7610"
      ]
     },
     "execution_count": 33,
     "metadata": {},
     "output_type": "execute_result"
    }
   ],
   "source": [
    "100*76+10"
   ]
  },
  {
   "cell_type": "code",
   "execution_count": null,
   "metadata": {},
   "outputs": [],
   "source": [
    "# 76000 is too high"
   ]
  }
 ],
 "metadata": {
  "kernelspec": {
   "display_name": "Python 3",
   "language": "python",
   "name": "python3"
  },
  "language_info": {
   "codemirror_mode": {
    "name": "ipython",
    "version": 3
   },
   "file_extension": ".py",
   "mimetype": "text/x-python",
   "name": "python",
   "nbconvert_exporter": "python",
   "pygments_lexer": "ipython3",
   "version": "3.7.3"
  }
 },
 "nbformat": 4,
 "nbformat_minor": 2
}
