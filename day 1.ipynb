{
 "cells": [
  {
   "cell_type": "code",
   "execution_count": 28,
   "metadata": {},
   "outputs": [
    {
     "name": "stdout",
     "output_type": "stream",
     "text": [
      "3368364\n",
      "5049684\n"
     ]
    }
   ],
   "source": [
    "def get_fuel_requirement(number, calculate_extra_for_fuel):\n",
    "    number /= 3\n",
    "    number = int(number)\n",
    "    number -= 2\n",
    "    if number < 0:\n",
    "        return 0\n",
    "    \n",
    "    if calculate_extra_for_fuel:\n",
    "        number +=get_fuel_requirement(number, True)\n",
    "        \n",
    "    return number\n",
    "\n",
    "with open('inputs/day1.txt') as f: \n",
    "    total = 0\n",
    "    for line in f:\n",
    "        number = int(line)\n",
    "        total += get_fuel_requirement(number, False)\n",
    "    print(total)\n",
    "    \n",
    "with open('inputs/day1.txt') as f: \n",
    "    total = 0\n",
    "    for line in f:\n",
    "        number = int(line)\n",
    "        total += get_fuel_requirement(number, True)\n",
    "    print(total)\n",
    "\n"
   ]
  },
  {
   "cell_type": "code",
   "execution_count": null,
   "metadata": {},
   "outputs": [],
   "source": []
  }
 ],
 "metadata": {
  "kernelspec": {
   "display_name": "Python 3",
   "language": "python",
   "name": "python3"
  },
  "language_info": {
   "codemirror_mode": {
    "name": "ipython",
    "version": 3
   },
   "file_extension": ".py",
   "mimetype": "text/x-python",
   "name": "python",
   "nbconvert_exporter": "python",
   "pygments_lexer": "ipython3",
   "version": "3.7.3"
  }
 },
 "nbformat": 4,
 "nbformat_minor": 2
}
